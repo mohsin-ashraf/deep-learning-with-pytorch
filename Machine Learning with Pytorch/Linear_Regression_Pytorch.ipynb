{
  "nbformat": 4,
  "nbformat_minor": 0,
  "metadata": {
    "colab": {
      "name": "Linear Regression Pytorch.ipynb",
      "provenance": [],
      "collapsed_sections": []
    },
    "kernelspec": {
      "name": "python3",
      "display_name": "Python 3"
    }
  },
  "cells": [
    {
      "cell_type": "code",
      "metadata": {
        "id": "TIJnL32Oc_bK",
        "colab_type": "code",
        "colab": {}
      },
      "source": [
        "import torch\n",
        "import torch.nn as nn\n",
        "import numpy as np\n",
        "import matplotlib.pyplot as plt\n",
        "\n",
        "%matplotlib inline"
      ],
      "execution_count": null,
      "outputs": []
    },
    {
      "cell_type": "code",
      "metadata": {
        "id": "evJHU0ghdOC8",
        "colab_type": "code",
        "colab": {
          "base_uri": "https://localhost:8080/",
          "height": 265
        },
        "outputId": "ed5509f6-4829-48fd-a321-bd323d5b9595"
      },
      "source": [
        "N = 20\n",
        "X = np.random.random(N) * 10 - 5\n",
        "Y = 0.5 * X - 1 + np.random.randn(N)\n",
        "\n",
        "plt.scatter(X,Y)\n",
        "plt.show()"
      ],
      "execution_count": null,
      "outputs": [
        {
          "output_type": "display_data",
          "data": {
            "image/png": "[encoded data removed]",
            "text/plain": [
              "<Figure size 432x288 with 1 Axes>"
            ]
          },
          "metadata": {
            "tags": [],
            "needs_background": "light"
          }
        }
      ]
    },
    {
      "cell_type": "code",
      "metadata": {
        "id": "X5Wa7ge5diSv",
        "colab_type": "code",
        "colab": {}
      },
      "source": [
        "model = nn.Linear(1,1)\n",
        "criterion = nn.MSELoss()\n",
        "optimizer = torch.optim.SGD(model.parameters(),lr=0.05)\n",
        "\n",
        "\n",
        "X = X.reshape(N,1)\n",
        "Y = Y.reshape(N,1)\n",
        "\n",
        "inputs = torch.from_numpy(X.astype(np.float32))\n",
        "targets = torch.from_numpy(Y.astype(np.float32))"
      ],
      "execution_count": null,
      "outputs": []
    },
    {
      "cell_type": "code",
      "metadata": {
        "id": "iOtIUne8eNy_",
        "colab_type": "code",
        "colab": {}
      },
      "source": [
        "n_epochs = 30\n",
        "losses = []\n"
      ],
      "execution_count": null,
      "outputs": []
    },
    {
      "cell_type": "code",
      "metadata": {
        "id": "rrbaA7KmeRrj",
        "colab_type": "code",
        "colab": {
          "base_uri": "https://localhost:8080/",
          "height": 577
        },
        "outputId": "07f2979f-5435-4719-ce7d-414c179b03a2"
      },
      "source": [
        "for epoch in range(n_epochs):\n",
        "  optimizer.zero_grad()\n",
        "\n",
        "  outputs = model(inputs)  \n",
        "  loss = criterion(outputs,targets)\n",
        "  losses.append(loss.item())\n",
        "  loss.backward()\n",
        "  optimizer.step()\n",
        "    \n",
        "  print(f'Epoch {epoch+1}/{n_epochs}, Loss: {loss.item():.4f}')\n"
      ],
      "execution_count": null,
      "outputs": [
        {
          "output_type": "stream",
          "text": [
            "Epoch 1/30, Loss: 2.4435\n",
            "Epoch 2/30, Loss: 0.8429\n",
            "Epoch 3/30, Loss: 0.5395\n",
            "Epoch 4/30, Loss: 0.4817\n",
            "Epoch 5/30, Loss: 0.4706\n",
            "Epoch 6/30, Loss: 0.4683\n",
            "Epoch 7/30, Loss: 0.4677\n",
            "Epoch 8/30, Loss: 0.4674\n",
            "Epoch 9/30, Loss: 0.4673\n",
            "Epoch 10/30, Loss: 0.4672\n",
            "Epoch 11/30, Loss: 0.4671\n",
            "Epoch 12/30, Loss: 0.4670\n",
            "Epoch 13/30, Loss: 0.4670\n",
            "Epoch 14/30, Loss: 0.4669\n",
            "Epoch 15/30, Loss: 0.4669\n",
            "Epoch 16/30, Loss: 0.4668\n",
            "Epoch 17/30, Loss: 0.4668\n",
            "Epoch 18/30, Loss: 0.4668\n",
            "Epoch 19/30, Loss: 0.4668\n",
            "Epoch 20/30, Loss: 0.4667\n",
            "Epoch 21/30, Loss: 0.4667\n",
            "Epoch 22/30, Loss: 0.4667\n",
            "Epoch 23/30, Loss: 0.4667\n",
            "Epoch 24/30, Loss: 0.4667\n",
            "Epoch 25/30, Loss: 0.4667\n",
            "Epoch 26/30, Loss: 0.4667\n",
            "Epoch 27/30, Loss: 0.4667\n",
            "Epoch 28/30, Loss: 0.4667\n",
            "Epoch 29/30, Loss: 0.4667\n",
            "Epoch 30/30, Loss: 0.4667\n"
          ],
          "name": "stdout"
        }
      ]
    },
    {
      "cell_type": "code",
      "metadata": {
        "id": "TbjyjjY8e7GO",
        "colab_type": "code",
        "colab": {
          "base_uri": "https://localhost:8080/",
          "height": 265
        },
        "outputId": "00910aa3-f888-4750-ae4b-b4679a5e8f8e"
      },
      "source": [
        "  # Plot the loss per iteration\n",
        "plt.plot(losses);"
      ],
      "execution_count": null,
      "outputs": [
        {
          "output_type": "display_data",
          "data": {
            "image/png": "[encoded data removed]",
            "text/plain": [
              "<Figure size 432x288 with 1 Axes>"
            ]
          },
          "metadata": {
            "tags": [],
            "needs_background": "light"
          }
        }
      ]
    },
    {
      "cell_type": "code",
      "metadata": {
        "id": "xqZ2Q3tHgBAB",
        "colab_type": "code",
        "colab": {
          "base_uri": "https://localhost:8080/",
          "height": 265
        },
        "outputId": "9d4f553e-fd54-4a8a-f973-78a80d151ba3"
      },
      "source": [
        "# Plot the graph\n",
        "predicted = model(inputs).detach().numpy()\n",
        "plt.scatter(X, Y, label='Original data')\n",
        "plt.plot(X, predicted, label='Fitted line')\n",
        "plt.legend()\n",
        "plt.show()"
      ],
      "execution_count": null,
      "outputs": [
        {
          "output_type": "display_data",
          "data": {
            "image/png": "[encoded data removed]",
            "text/plain": [
              "<Figure size 432x288 with 1 Axes>"
            ]
          },
          "metadata": {
            "tags": [],
            "needs_background": "light"
          }
        }
      ]
    },
    {
      "cell_type": "code",
      "metadata": {
        "id": "hUfbDj8VgG4i",
        "colab_type": "code",
        "colab": {
          "base_uri": "https://localhost:8080/",
          "height": 36
        },
        "outputId": "417133a6-b028-42a4-cb0f-73a97388bc02"
      },
      "source": [
        "# Important!\n",
        "# In order to test the efficacy of our model, synthetic data is useful\n",
        "# Why?\n",
        "# Because ***we know the answer***\n",
        "# True values of (w, b) are (0.5, -1)\n",
        "w = model.weight.data.numpy()\n",
        "b = model.bias.data.numpy()\n",
        "print(w, b)"
      ],
      "execution_count": null,
      "outputs": [
        {
          "output_type": "stream",
          "text": [
            "[[0.5633841]] [-0.70793176]\n"
          ],
          "name": "stdout"
        }
      ]
    },
    {
      "cell_type": "code",
      "metadata": {
        "id": "HAABHKdDhqdk",
        "colab_type": "code",
        "colab": {
          "base_uri": "https://localhost:8080/",
          "height": 36
        },
        "outputId": "5d497edf-1723-4834-ced9-c7a56fab923b"
      },
      "source": [
        "type(loss)"
      ],
      "execution_count": null,
      "outputs": [
        {
          "output_type": "execute_result",
          "data": {
            "text/plain": [
              "torch.Tensor"
            ]
          },
          "metadata": {
            "tags": []
          },
          "execution_count": 18
        }
      ]
    },
    {
      "cell_type": "code",
      "metadata": {
        "id": "a2Q-0hm3hwC2",
        "colab_type": "code",
        "colab": {}
      },
      "source": [
        ""
      ],
      "execution_count": null,
      "outputs": []
    }
  ]
}